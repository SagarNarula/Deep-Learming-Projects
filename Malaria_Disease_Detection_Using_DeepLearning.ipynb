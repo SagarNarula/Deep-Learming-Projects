{
  "nbformat": 4,
  "nbformat_minor": 0,
  "metadata": {
    "colab": {
      "name": "Malaria Disease Detection Using DeepLearning.ipynb",
      "provenance": [],
      "collapsed_sections": [],
      "authorship_tag": "ABX9TyPMdD8Bt5Rs3TkDs21aBmr+"
    },
    "kernelspec": {
      "name": "python3",
      "display_name": "Python 3"
    },
    "accelerator": "GPU"
  },
  "cells": [
    {
      "cell_type": "code",
      "metadata": {
        "id": "yaOfECzxsJU3",
        "colab_type": "code",
        "colab": {
          "base_uri": "https://localhost:8080/",
          "height": 122
        },
        "outputId": "95ec4cb5-2dfd-4909-aa22-43942bb6722f"
      },
      "source": [
        "from google.colab import drive\n",
        "drive.mount('/content/gdrive')"
      ],
      "execution_count": null,
      "outputs": [
        {
          "output_type": "stream",
          "text": [
            "Go to this URL in a browser: https://accounts.google.com/o/oauth2/auth?client_id=947318989803-6bn6qk8qdgf4n4g3pfee6491hc0brc4i.apps.googleusercontent.com&redirect_uri=urn%3aietf%3awg%3aoauth%3a2.0%3aoob&scope=email%20https%3a%2f%2fwww.googleapis.com%2fauth%2fdocs.test%20https%3a%2f%2fwww.googleapis.com%2fauth%2fdrive%20https%3a%2f%2fwww.googleapis.com%2fauth%2fdrive.photos.readonly%20https%3a%2f%2fwww.googleapis.com%2fauth%2fpeopleapi.readonly&response_type=code\n",
            "\n",
            "Enter your authorization code:\n",
            "··········\n",
            "Mounted at /content/gdrive\n"
          ],
          "name": "stdout"
        }
      ]
    },
    {
      "cell_type": "code",
      "metadata": {
        "id": "delxpqqeuVNP",
        "colab_type": "code",
        "colab": {}
      },
      "source": [
        "from tensorflow.keras.layers import Input, Lambda, Dense, Flatten\n",
        "from tensorflow.keras.models import Model\n",
        "from tensorflow.keras.applications.resnet50 import ResNet50\n",
        "from tensorflow.keras.applications.vgg19 import VGG19\n",
        "from tensorflow.keras.applications.vgg19 import preprocess_input\n",
        "from tensorflow.keras.preprocessing import image\n",
        "from tensorflow.keras.preprocessing.image import ImageDataGenerator,load_img\n",
        "from tensorflow.keras.models import Sequential\n",
        "import numpy as np\n",
        "from glob import glob\n",
        "import matplotlib.pyplot as plt"
      ],
      "execution_count": null,
      "outputs": []
    },
    {
      "cell_type": "code",
      "metadata": {
        "id": "8hOxfqQVvopW",
        "colab_type": "code",
        "colab": {}
      },
      "source": [
        "IMAGE_SIZE=[224,224]\n",
        "train_path='/content/gdrive/My Drive/Dataset/Dataset/Train'\n",
        "test_path='/content/gdrive/My Drive/Dataset/Dataset/Test'"
      ],
      "execution_count": null,
      "outputs": []
    },
    {
      "cell_type": "code",
      "metadata": {
        "id": "gRv9yQiWwPPt",
        "colab_type": "code",
        "colab": {}
      },
      "source": [
        "vgg19=VGG19(input_shape=IMAGE_SIZE+[3],weights='imagenet',include_top=False)"
      ],
      "execution_count": null,
      "outputs": []
    },
    {
      "cell_type": "code",
      "metadata": {
        "id": "ICz1T4Edw4WN",
        "colab_type": "code",
        "colab": {
          "base_uri": "https://localhost:8080/",
          "height": 901
        },
        "outputId": "3fd6022d-f2e5-4406-d71b-07376b362662"
      },
      "source": [
        "vgg19.summary()"
      ],
      "execution_count": null,
      "outputs": [
        {
          "output_type": "stream",
          "text": [
            "Model: \"vgg19\"\n",
            "_________________________________________________________________\n",
            "Layer (type)                 Output Shape              Param #   \n",
            "=================================================================\n",
            "input_2 (InputLayer)         [(None, 224, 224, 3)]     0         \n",
            "_________________________________________________________________\n",
            "block1_conv1 (Conv2D)        (None, 224, 224, 64)      1792      \n",
            "_________________________________________________________________\n",
            "block1_conv2 (Conv2D)        (None, 224, 224, 64)      36928     \n",
            "_________________________________________________________________\n",
            "block1_pool (MaxPooling2D)   (None, 112, 112, 64)      0         \n",
            "_________________________________________________________________\n",
            "block2_conv1 (Conv2D)        (None, 112, 112, 128)     73856     \n",
            "_________________________________________________________________\n",
            "block2_conv2 (Conv2D)        (None, 112, 112, 128)     147584    \n",
            "_________________________________________________________________\n",
            "block2_pool (MaxPooling2D)   (None, 56, 56, 128)       0         \n",
            "_________________________________________________________________\n",
            "block3_conv1 (Conv2D)        (None, 56, 56, 256)       295168    \n",
            "_________________________________________________________________\n",
            "block3_conv2 (Conv2D)        (None, 56, 56, 256)       590080    \n",
            "_________________________________________________________________\n",
            "block3_conv3 (Conv2D)        (None, 56, 56, 256)       590080    \n",
            "_________________________________________________________________\n",
            "block3_conv4 (Conv2D)        (None, 56, 56, 256)       590080    \n",
            "_________________________________________________________________\n",
            "block3_pool (MaxPooling2D)   (None, 28, 28, 256)       0         \n",
            "_________________________________________________________________\n",
            "block4_conv1 (Conv2D)        (None, 28, 28, 512)       1180160   \n",
            "_________________________________________________________________\n",
            "block4_conv2 (Conv2D)        (None, 28, 28, 512)       2359808   \n",
            "_________________________________________________________________\n",
            "block4_conv3 (Conv2D)        (None, 28, 28, 512)       2359808   \n",
            "_________________________________________________________________\n",
            "block4_conv4 (Conv2D)        (None, 28, 28, 512)       2359808   \n",
            "_________________________________________________________________\n",
            "block4_pool (MaxPooling2D)   (None, 14, 14, 512)       0         \n",
            "_________________________________________________________________\n",
            "block5_conv1 (Conv2D)        (None, 14, 14, 512)       2359808   \n",
            "_________________________________________________________________\n",
            "block5_conv2 (Conv2D)        (None, 14, 14, 512)       2359808   \n",
            "_________________________________________________________________\n",
            "block5_conv3 (Conv2D)        (None, 14, 14, 512)       2359808   \n",
            "_________________________________________________________________\n",
            "block5_conv4 (Conv2D)        (None, 14, 14, 512)       2359808   \n",
            "_________________________________________________________________\n",
            "block5_pool (MaxPooling2D)   (None, 7, 7, 512)         0         \n",
            "=================================================================\n",
            "Total params: 20,024,384\n",
            "Trainable params: 20,024,384\n",
            "Non-trainable params: 0\n",
            "_________________________________________________________________\n"
          ],
          "name": "stdout"
        }
      ]
    },
    {
      "cell_type": "code",
      "metadata": {
        "id": "T6IXLnHCwdGO",
        "colab_type": "code",
        "colab": {}
      },
      "source": [
        "# don't train existing layers:\n",
        "for layers in vgg19.layers:\n",
        "  layers.trainable=False"
      ],
      "execution_count": null,
      "outputs": []
    },
    {
      "cell_type": "code",
      "metadata": {
        "id": "Cj8eInsWw_pn",
        "colab_type": "code",
        "colab": {
          "base_uri": "https://localhost:8080/",
          "height": 51
        },
        "outputId": "27ee4575-930c-476a-ab9e-e000d9034a4f"
      },
      "source": [
        "#useful for getting number of Output classes:\n",
        "folders=glob('/content/gdrive/My Drive/Dataset/Dataset/Train/*')\n",
        "folders"
      ],
      "execution_count": null,
      "outputs": [
        {
          "output_type": "execute_result",
          "data": {
            "text/plain": [
              "['/content/gdrive/My Drive/Dataset/Dataset/Train/Parasite',\n",
              " '/content/gdrive/My Drive/Dataset/Dataset/Train/Uninfected']"
            ]
          },
          "metadata": {
            "tags": []
          },
          "execution_count": 9
        }
      ]
    },
    {
      "cell_type": "code",
      "metadata": {
        "id": "oGWENuBSxHjd",
        "colab_type": "code",
        "colab": {}
      },
      "source": [
        "# Flatten the output of VGG19\n",
        "x=Flatten()(vgg19.output)"
      ],
      "execution_count": null,
      "outputs": []
    },
    {
      "cell_type": "code",
      "metadata": {
        "id": "ndphzttryqtM",
        "colab_type": "code",
        "colab": {}
      },
      "source": [
        "prediction=Dense(len(folders),activation='softmax')(x)\n",
        "model=Model(inputs=vgg19.input,outputs=prediction)"
      ],
      "execution_count": null,
      "outputs": []
    },
    {
      "cell_type": "code",
      "metadata": {
        "id": "DPba5Bva0Fyl",
        "colab_type": "code",
        "colab": {
          "base_uri": "https://localhost:8080/",
          "height": 969
        },
        "outputId": "1873844b-af85-42fa-ab19-62eae26204ed"
      },
      "source": [
        "model.summary()"
      ],
      "execution_count": null,
      "outputs": [
        {
          "output_type": "stream",
          "text": [
            "Model: \"model\"\n",
            "_________________________________________________________________\n",
            "Layer (type)                 Output Shape              Param #   \n",
            "=================================================================\n",
            "input_2 (InputLayer)         [(None, 224, 224, 3)]     0         \n",
            "_________________________________________________________________\n",
            "block1_conv1 (Conv2D)        (None, 224, 224, 64)      1792      \n",
            "_________________________________________________________________\n",
            "block1_conv2 (Conv2D)        (None, 224, 224, 64)      36928     \n",
            "_________________________________________________________________\n",
            "block1_pool (MaxPooling2D)   (None, 112, 112, 64)      0         \n",
            "_________________________________________________________________\n",
            "block2_conv1 (Conv2D)        (None, 112, 112, 128)     73856     \n",
            "_________________________________________________________________\n",
            "block2_conv2 (Conv2D)        (None, 112, 112, 128)     147584    \n",
            "_________________________________________________________________\n",
            "block2_pool (MaxPooling2D)   (None, 56, 56, 128)       0         \n",
            "_________________________________________________________________\n",
            "block3_conv1 (Conv2D)        (None, 56, 56, 256)       295168    \n",
            "_________________________________________________________________\n",
            "block3_conv2 (Conv2D)        (None, 56, 56, 256)       590080    \n",
            "_________________________________________________________________\n",
            "block3_conv3 (Conv2D)        (None, 56, 56, 256)       590080    \n",
            "_________________________________________________________________\n",
            "block3_conv4 (Conv2D)        (None, 56, 56, 256)       590080    \n",
            "_________________________________________________________________\n",
            "block3_pool (MaxPooling2D)   (None, 28, 28, 256)       0         \n",
            "_________________________________________________________________\n",
            "block4_conv1 (Conv2D)        (None, 28, 28, 512)       1180160   \n",
            "_________________________________________________________________\n",
            "block4_conv2 (Conv2D)        (None, 28, 28, 512)       2359808   \n",
            "_________________________________________________________________\n",
            "block4_conv3 (Conv2D)        (None, 28, 28, 512)       2359808   \n",
            "_________________________________________________________________\n",
            "block4_conv4 (Conv2D)        (None, 28, 28, 512)       2359808   \n",
            "_________________________________________________________________\n",
            "block4_pool (MaxPooling2D)   (None, 14, 14, 512)       0         \n",
            "_________________________________________________________________\n",
            "block5_conv1 (Conv2D)        (None, 14, 14, 512)       2359808   \n",
            "_________________________________________________________________\n",
            "block5_conv2 (Conv2D)        (None, 14, 14, 512)       2359808   \n",
            "_________________________________________________________________\n",
            "block5_conv3 (Conv2D)        (None, 14, 14, 512)       2359808   \n",
            "_________________________________________________________________\n",
            "block5_conv4 (Conv2D)        (None, 14, 14, 512)       2359808   \n",
            "_________________________________________________________________\n",
            "block5_pool (MaxPooling2D)   (None, 7, 7, 512)         0         \n",
            "_________________________________________________________________\n",
            "flatten_3 (Flatten)          (None, 25088)             0         \n",
            "_________________________________________________________________\n",
            "dense (Dense)                (None, 2)                 50178     \n",
            "=================================================================\n",
            "Total params: 20,074,562\n",
            "Trainable params: 50,178\n",
            "Non-trainable params: 20,024,384\n",
            "_________________________________________________________________\n"
          ],
          "name": "stdout"
        }
      ]
    },
    {
      "cell_type": "code",
      "metadata": {
        "id": "RboajRwn0K-T",
        "colab_type": "code",
        "colab": {}
      },
      "source": [
        "## Compilation of the Model:\n",
        "model.compile(loss='categorical_crossentropy',optimizer='adam',metrics=['accuracy'])"
      ],
      "execution_count": null,
      "outputs": []
    },
    {
      "cell_type": "code",
      "metadata": {
        "id": "68gqUBZD0234",
        "colab_type": "code",
        "colab": {}
      },
      "source": [
        "## Use the Imagenet Generator to import the images from the dataset:\n",
        "train_datagen=ImageDataGenerator(rescale=1./255,shear_range=0.2,zoom_range=0.2,horizontal_flip=True)\n",
        "# Never use Data Augmentation on the test dataset\n",
        "test_datagen=ImageDataGenerator(rescale=1./255)"
      ],
      "execution_count": null,
      "outputs": []
    },
    {
      "cell_type": "code",
      "metadata": {
        "id": "FwlLOZeD1ID3",
        "colab_type": "code",
        "colab": {
          "base_uri": "https://localhost:8080/",
          "height": 34
        },
        "outputId": "f4846b02-163a-4c57-d5ff-78c32f2c5157"
      },
      "source": [
        "training_dataset=train_datagen.flow_from_directory('/content/gdrive/My Drive/Dataset/Dataset/Train',target_size=(224,224),batch_size=32,class_mode='categorical')"
      ],
      "execution_count": null,
      "outputs": [
        {
          "output_type": "stream",
          "text": [
            "Found 416 images belonging to 2 classes.\n"
          ],
          "name": "stdout"
        }
      ]
    },
    {
      "cell_type": "code",
      "metadata": {
        "id": "2QC0U6CP1MhK",
        "colab_type": "code",
        "colab": {
          "base_uri": "https://localhost:8080/",
          "height": 34
        },
        "outputId": "3efa4093-b350-4529-8657-53b83ceebb20"
      },
      "source": [
        "test_dataset=test_datagen.flow_from_directory('/content/gdrive/My Drive/Dataset/Dataset/Test',target_size=(224,224),batch_size=32,class_mode='categorical')"
      ],
      "execution_count": null,
      "outputs": [
        {
          "output_type": "stream",
          "text": [
            "Found 134 images belonging to 2 classes.\n"
          ],
          "name": "stdout"
        }
      ]
    },
    {
      "cell_type": "code",
      "metadata": {
        "id": "tYOLKTvl1UTQ",
        "colab_type": "code",
        "colab": {
          "base_uri": "https://localhost:8080/",
          "height": 1000
        },
        "outputId": "f5dd79c0-9010-4b40-ba44-4e7cb04b8ae8"
      },
      "source": [
        "r=model.fit_generator(training_dataset,validation_data=test_dataset,epochs=30,steps_per_epoch=len(training_dataset),validation_steps=len(test_dataset))"
      ],
      "execution_count": null,
      "outputs": [
        {
          "output_type": "stream",
          "text": [
            "Epoch 1/30\n",
            "13/13 [==============================] - 8s 623ms/step - loss: 0.1753 - accuracy: 0.9423 - val_loss: 0.2904 - val_accuracy: 0.8731\n",
            "Epoch 2/30\n",
            "13/13 [==============================] - 8s 621ms/step - loss: 0.1742 - accuracy: 0.9423 - val_loss: 0.2545 - val_accuracy: 0.9179\n",
            "Epoch 3/30\n",
            "13/13 [==============================] - 8s 624ms/step - loss: 0.1494 - accuracy: 0.9543 - val_loss: 0.3034 - val_accuracy: 0.8507\n",
            "Epoch 4/30\n",
            "13/13 [==============================] - 8s 624ms/step - loss: 0.1813 - accuracy: 0.9183 - val_loss: 0.4162 - val_accuracy: 0.7761\n",
            "Epoch 5/30\n",
            "13/13 [==============================] - 8s 622ms/step - loss: 0.1640 - accuracy: 0.9543 - val_loss: 0.2299 - val_accuracy: 0.9254\n",
            "Epoch 6/30\n",
            "13/13 [==============================] - 8s 623ms/step - loss: 0.1405 - accuracy: 0.9615 - val_loss: 0.2915 - val_accuracy: 0.8806\n",
            "Epoch 7/30\n",
            "13/13 [==============================] - 8s 622ms/step - loss: 0.1352 - accuracy: 0.9736 - val_loss: 0.2887 - val_accuracy: 0.8955\n",
            "Epoch 8/30\n",
            "13/13 [==============================] - 8s 627ms/step - loss: 0.1457 - accuracy: 0.9591 - val_loss: 0.2633 - val_accuracy: 0.9030\n",
            "Epoch 9/30\n",
            "13/13 [==============================] - 8s 625ms/step - loss: 0.1547 - accuracy: 0.9495 - val_loss: 0.3402 - val_accuracy: 0.8433\n",
            "Epoch 10/30\n",
            "13/13 [==============================] - 8s 626ms/step - loss: 0.1381 - accuracy: 0.9567 - val_loss: 0.2527 - val_accuracy: 0.8955\n",
            "Epoch 11/30\n",
            "13/13 [==============================] - 8s 625ms/step - loss: 0.1742 - accuracy: 0.9399 - val_loss: 0.4612 - val_accuracy: 0.7612\n",
            "Epoch 12/30\n",
            "13/13 [==============================] - 8s 625ms/step - loss: 0.1450 - accuracy: 0.9567 - val_loss: 0.2689 - val_accuracy: 0.8657\n",
            "Epoch 13/30\n",
            "13/13 [==============================] - 8s 626ms/step - loss: 0.1151 - accuracy: 0.9712 - val_loss: 0.3248 - val_accuracy: 0.8582\n",
            "Epoch 14/30\n",
            "13/13 [==============================] - 8s 622ms/step - loss: 0.1110 - accuracy: 0.9736 - val_loss: 0.2079 - val_accuracy: 0.9328\n",
            "Epoch 15/30\n",
            "13/13 [==============================] - 8s 639ms/step - loss: 0.1121 - accuracy: 0.9688 - val_loss: 0.2754 - val_accuracy: 0.8806\n",
            "Epoch 16/30\n",
            "13/13 [==============================] - 8s 622ms/step - loss: 0.1307 - accuracy: 0.9591 - val_loss: 0.5140 - val_accuracy: 0.7313\n",
            "Epoch 17/30\n",
            "13/13 [==============================] - 8s 624ms/step - loss: 0.1214 - accuracy: 0.9663 - val_loss: 0.2440 - val_accuracy: 0.9179\n",
            "Epoch 18/30\n",
            "13/13 [==============================] - 8s 623ms/step - loss: 0.1309 - accuracy: 0.9567 - val_loss: 0.2186 - val_accuracy: 0.9328\n",
            "Epoch 19/30\n",
            "13/13 [==============================] - 8s 620ms/step - loss: 0.1013 - accuracy: 0.9736 - val_loss: 0.2759 - val_accuracy: 0.8955\n",
            "Epoch 20/30\n",
            "13/13 [==============================] - 8s 617ms/step - loss: 0.0897 - accuracy: 0.9832 - val_loss: 0.2640 - val_accuracy: 0.8955\n",
            "Epoch 21/30\n",
            "13/13 [==============================] - 8s 613ms/step - loss: 0.0988 - accuracy: 0.9712 - val_loss: 0.2478 - val_accuracy: 0.9030\n",
            "Epoch 22/30\n",
            "13/13 [==============================] - 8s 617ms/step - loss: 0.1030 - accuracy: 0.9615 - val_loss: 0.2011 - val_accuracy: 0.9328\n",
            "Epoch 23/30\n",
            "13/13 [==============================] - 8s 626ms/step - loss: 0.1261 - accuracy: 0.9495 - val_loss: 0.2259 - val_accuracy: 0.9179\n",
            "Epoch 24/30\n",
            "13/13 [==============================] - 8s 618ms/step - loss: 0.1070 - accuracy: 0.9736 - val_loss: 0.1789 - val_accuracy: 0.9254\n",
            "Epoch 25/30\n",
            "13/13 [==============================] - 8s 614ms/step - loss: 0.0966 - accuracy: 0.9760 - val_loss: 0.2254 - val_accuracy: 0.9179\n",
            "Epoch 26/30\n",
            "13/13 [==============================] - 8s 625ms/step - loss: 0.0802 - accuracy: 0.9808 - val_loss: 0.2349 - val_accuracy: 0.9179\n",
            "Epoch 27/30\n",
            "13/13 [==============================] - 8s 633ms/step - loss: 0.0850 - accuracy: 0.9760 - val_loss: 0.1906 - val_accuracy: 0.9179\n",
            "Epoch 28/30\n",
            "13/13 [==============================] - 8s 616ms/step - loss: 0.0828 - accuracy: 0.9784 - val_loss: 0.3640 - val_accuracy: 0.8060\n",
            "Epoch 29/30\n",
            "13/13 [==============================] - 8s 609ms/step - loss: 0.0871 - accuracy: 0.9736 - val_loss: 0.3334 - val_accuracy: 0.8209\n",
            "Epoch 30/30\n",
            "13/13 [==============================] - 8s 615ms/step - loss: 0.0781 - accuracy: 0.9760 - val_loss: 0.1982 - val_accuracy: 0.9179\n"
          ],
          "name": "stdout"
        }
      ]
    },
    {
      "cell_type": "code",
      "metadata": {
        "id": "iO3NJmW83TO4",
        "colab_type": "code",
        "colab": {
          "base_uri": "https://localhost:8080/",
          "height": 265
        },
        "outputId": "511db6b1-f6d2-482c-c34f-c896689c4664"
      },
      "source": [
        "#Plot the loss:\n",
        "plt.plot(r.history['loss'],label='train_loss')\n",
        "plt.plot(r.history['val_loss'],label='test_loss')\n",
        "plt.legend()\n",
        "plt.show()"
      ],
      "execution_count": null,
      "outputs": [
        {
          "output_type": "display_data",
          "data": {
            "image/png": "[encoded data removed]",
            "text/plain": [
              "<Figure size 432x288 with 1 Axes>"
            ]
          },
          "metadata": {
            "tags": [],
            "needs_background": "light"
          }
        }
      ]
    },
    {
      "cell_type": "code",
      "metadata": {
        "id": "YPU6shnV52Qz",
        "colab_type": "code",
        "colab": {
          "base_uri": "https://localhost:8080/",
          "height": 265
        },
        "outputId": "dad70b7e-6eac-4276-f3f3-94e1b3885e93"
      },
      "source": [
        "#Plot the accuracy:\n",
        "plt.plot(r.history['accuracy'],label='train_accuracy')\n",
        "plt.plot(r.history['val_accuracy'],label='test_accuracy')\n",
        "plt.legend()\n",
        "plt.show()"
      ],
      "execution_count": null,
      "outputs": [
        {
          "output_type": "display_data",
          "data": {
            "image/png": "[encoded data removed]",
            "text/plain": [
              "<Figure size 432x288 with 1 Axes>"
            ]
          },
          "metadata": {
            "tags": [],
            "needs_background": "light"
          }
        }
      ]
    },
    {
      "cell_type": "code",
      "metadata": {
        "id": "-6O7ANR26BTZ",
        "colab_type": "code",
        "colab": {}
      },
      "source": [
        "model.save('model_vgg19.h5')"
      ],
      "execution_count": null,
      "outputs": []
    },
    {
      "cell_type": "code",
      "metadata": {
        "id": "xF2R5UBa8gdR",
        "colab_type": "code",
        "colab": {}
      },
      "source": [
        "y_pred=model.predict(test_dataset)"
      ],
      "execution_count": null,
      "outputs": []
    },
    {
      "cell_type": "code",
      "metadata": {
        "id": "7unGRsNF8mIX",
        "colab_type": "code",
        "colab": {
          "base_uri": "https://localhost:8080/",
          "height": 1000
        },
        "outputId": "709600b2-9392-4417-f0c2-1c09e7d7ffb9"
      },
      "source": [
        "y_pred"
      ],
      "execution_count": null,
      "outputs": [
        {
          "output_type": "execute_result",
          "data": {
            "text/plain": [
              "array([[9.9998176e-01, 1.8259921e-05],\n",
              "       [9.9972183e-01, 2.7816513e-04],\n",
              "       [9.9995768e-01, 4.2343367e-05],\n",
              "       [9.2515692e-02, 9.0748429e-01],\n",
              "       [7.1140313e-01, 2.8859693e-01],\n",
              "       [4.5942092e-01, 5.4057908e-01],\n",
              "       [8.9483809e-01, 1.0516188e-01],\n",
              "       [9.9885643e-01, 1.1436354e-03],\n",
              "       [8.3337083e-02, 9.1666293e-01],\n",
              "       [4.8378333e-02, 9.5162171e-01],\n",
              "       [7.6593101e-02, 9.2340690e-01],\n",
              "       [9.6372205e-01, 3.6277968e-02],\n",
              "       [8.6479950e-01, 1.3520047e-01],\n",
              "       [9.0608299e-01, 9.3917035e-02],\n",
              "       [1.0000000e+00, 2.0942041e-08],\n",
              "       [6.0697448e-01, 3.9302555e-01],\n",
              "       [1.5514393e-01, 8.4485608e-01],\n",
              "       [5.8208320e-02, 9.4179165e-01],\n",
              "       [6.6847080e-01, 3.3152917e-01],\n",
              "       [8.2663171e-02, 9.1733688e-01],\n",
              "       [9.9999011e-01, 9.8627443e-06],\n",
              "       [9.9436259e-01, 5.6373621e-03],\n",
              "       [9.9998975e-01, 1.0231342e-05],\n",
              "       [9.9994314e-01, 5.6899014e-05],\n",
              "       [9.0499073e-01, 9.5009230e-02],\n",
              "       [1.3547931e-02, 9.8645210e-01],\n",
              "       [9.9999654e-01, 3.4374534e-06],\n",
              "       [9.7448438e-02, 9.0255159e-01],\n",
              "       [5.3457722e-02, 9.4654226e-01],\n",
              "       [1.4554538e-01, 8.5445458e-01],\n",
              "       [2.7140956e-02, 9.7285897e-01],\n",
              "       [9.9967897e-01, 3.2105064e-04],\n",
              "       [9.9931502e-01, 6.8504008e-04],\n",
              "       [4.1975895e-01, 5.8024102e-01],\n",
              "       [2.3328316e-01, 7.6671690e-01],\n",
              "       [9.9940336e-01, 5.9666194e-04],\n",
              "       [3.4741214e-01, 6.5258783e-01],\n",
              "       [9.5694786e-01, 4.3052122e-02],\n",
              "       [9.9286652e-01, 7.1335295e-03],\n",
              "       [1.8499152e-01, 8.1500852e-01],\n",
              "       [9.9883896e-01, 1.1610233e-03],\n",
              "       [5.7835955e-02, 9.4216400e-01],\n",
              "       [2.4429879e-01, 7.5570118e-01],\n",
              "       [2.9097073e-02, 9.7090292e-01],\n",
              "       [7.5498307e-01, 2.4501696e-01],\n",
              "       [8.4191036e-01, 1.5808962e-01],\n",
              "       [8.1592864e-01, 1.8407139e-01],\n",
              "       [3.5542524e-01, 6.4457476e-01],\n",
              "       [8.1354982e-01, 1.8645017e-01],\n",
              "       [9.7952056e-01, 2.0479441e-02],\n",
              "       [7.5466758e-01, 2.4533240e-01],\n",
              "       [7.9312630e-02, 9.2068738e-01],\n",
              "       [1.2926650e-01, 8.7073350e-01],\n",
              "       [9.0616572e-01, 9.3834288e-02],\n",
              "       [8.5232729e-01, 1.4767268e-01],\n",
              "       [9.7693163e-01, 2.3068376e-02],\n",
              "       [1.1441853e-01, 8.8558149e-01],\n",
              "       [9.9390984e-01, 6.0902117e-03],\n",
              "       [8.1897223e-01, 1.8102781e-01],\n",
              "       [6.6898865e-01, 3.3101130e-01],\n",
              "       [1.1202264e-01, 8.8797730e-01],\n",
              "       [9.9922419e-01, 7.7582675e-04],\n",
              "       [9.9934024e-01, 6.5976643e-04],\n",
              "       [8.1455731e-01, 1.8544270e-01],\n",
              "       [6.1600232e-01, 3.8399768e-01],\n",
              "       [1.0504532e-01, 8.9495468e-01],\n",
              "       [4.3516189e-01, 5.6483817e-01],\n",
              "       [9.9942988e-01, 5.7011627e-04],\n",
              "       [7.4865633e-01, 2.5134367e-01],\n",
              "       [9.4795346e-01, 5.2046567e-02],\n",
              "       [3.7751235e-02, 9.6224880e-01],\n",
              "       [9.9959642e-01, 4.0354635e-04],\n",
              "       [9.9985838e-01, 1.4164294e-04],\n",
              "       [9.6189862e-01, 3.8101375e-02],\n",
              "       [1.4872845e-01, 8.5127157e-01],\n",
              "       [1.8168573e-01, 8.1831425e-01],\n",
              "       [9.9998617e-01, 1.3879876e-05],\n",
              "       [9.9729270e-01, 2.7073312e-03],\n",
              "       [7.3645651e-02, 9.2635429e-01],\n",
              "       [9.9572468e-01, 4.2753192e-03],\n",
              "       [9.4230962e-01, 5.7690326e-02],\n",
              "       [9.9999118e-01, 8.7803428e-06],\n",
              "       [8.5812193e-01, 1.4187807e-01],\n",
              "       [1.1992562e-01, 8.8007432e-01],\n",
              "       [4.1060984e-01, 5.8939022e-01],\n",
              "       [9.9940836e-01, 5.9161923e-04],\n",
              "       [9.9983299e-01, 1.6696437e-04],\n",
              "       [8.4094018e-01, 1.5905979e-01],\n",
              "       [8.9473236e-01, 1.0526768e-01],\n",
              "       [3.7115848e-01, 6.2884152e-01],\n",
              "       [1.2710235e-01, 8.7289768e-01],\n",
              "       [7.7514730e-02, 9.2248529e-01],\n",
              "       [9.9870408e-01, 1.2959159e-03],\n",
              "       [9.9888378e-01, 1.1162780e-03],\n",
              "       [2.4371767e-02, 9.7562826e-01],\n",
              "       [9.9770808e-01, 2.2918556e-03],\n",
              "       [9.7839200e-01, 2.1607982e-02],\n",
              "       [1.7043912e-01, 8.2956082e-01],\n",
              "       [9.5630062e-01, 4.3699369e-02],\n",
              "       [9.9990022e-01, 9.9761412e-05],\n",
              "       [9.9620420e-01, 3.7958422e-03],\n",
              "       [9.9997175e-01, 2.8284850e-05],\n",
              "       [8.4441042e-01, 1.5558955e-01],\n",
              "       [3.9197251e-02, 9.6080273e-01],\n",
              "       [7.4937820e-02, 9.2506218e-01],\n",
              "       [7.4920845e-01, 2.5079152e-01],\n",
              "       [9.9026126e-01, 9.7387107e-03],\n",
              "       [7.6474357e-01, 2.3525642e-01],\n",
              "       [9.4961572e-01, 5.0384287e-02],\n",
              "       [9.7083706e-01, 2.9162966e-02],\n",
              "       [1.0338649e-01, 8.9661348e-01],\n",
              "       [9.9739957e-01, 2.6004331e-03],\n",
              "       [8.2804561e-01, 1.7195435e-01],\n",
              "       [8.2456648e-02, 9.1754335e-01],\n",
              "       [5.6255177e-02, 9.4374484e-01],\n",
              "       [1.5340078e-01, 8.4659922e-01],\n",
              "       [5.1865492e-02, 9.4813454e-01],\n",
              "       [9.9002993e-01, 9.9700438e-03],\n",
              "       [9.9974006e-01, 2.5995637e-04],\n",
              "       [9.8737693e-01, 1.2623088e-02],\n",
              "       [1.0000000e+00, 5.3852208e-08],\n",
              "       [2.0841627e-01, 7.9158378e-01],\n",
              "       [6.8146199e-01, 3.1853807e-01],\n",
              "       [3.3699255e-02, 9.6630067e-01],\n",
              "       [9.9930239e-01, 6.9758255e-04],\n",
              "       [6.2875628e-01, 3.7124372e-01],\n",
              "       [4.6488205e-01, 5.3511792e-01],\n",
              "       [9.9080545e-01, 9.1945194e-03],\n",
              "       [9.9982893e-01, 1.7099192e-04],\n",
              "       [9.9924362e-01, 7.5645623e-04],\n",
              "       [8.3992487e-01, 1.6007507e-01],\n",
              "       [5.8379695e-02, 9.4162029e-01],\n",
              "       [1.0657928e-01, 8.9342076e-01],\n",
              "       [9.9780232e-01, 2.1977038e-03]], dtype=float32)"
            ]
          },
          "metadata": {
            "tags": []
          },
          "execution_count": 35
        }
      ]
    },
    {
      "cell_type": "code",
      "metadata": {
        "id": "7QmhJuc38nj4",
        "colab_type": "code",
        "colab": {}
      },
      "source": [
        "y_pred=np.argmax(y_pred,axis=1)"
      ],
      "execution_count": null,
      "outputs": []
    },
    {
      "cell_type": "code",
      "metadata": {
        "id": "YSD66amy8rqz",
        "colab_type": "code",
        "colab": {
          "base_uri": "https://localhost:8080/",
          "height": 136
        },
        "outputId": "c441849b-7cdf-4cbe-8177-9d506a7f03e5"
      },
      "source": [
        "y_pred"
      ],
      "execution_count": null,
      "outputs": [
        {
          "output_type": "execute_result",
          "data": {
            "text/plain": [
              "array([0, 0, 0, 1, 0, 1, 0, 0, 1, 1, 1, 0, 0, 0, 0, 0, 1, 1, 0, 1, 0, 0,\n",
              "       0, 0, 0, 1, 0, 1, 1, 1, 1, 0, 0, 1, 1, 0, 1, 0, 0, 1, 0, 1, 1, 1,\n",
              "       0, 0, 0, 1, 0, 0, 0, 1, 1, 0, 0, 0, 1, 0, 0, 0, 1, 0, 0, 0, 0, 1,\n",
              "       1, 0, 0, 0, 1, 0, 0, 0, 1, 1, 0, 0, 1, 0, 0, 0, 0, 1, 1, 0, 0, 0,\n",
              "       0, 1, 1, 1, 0, 0, 1, 0, 0, 1, 0, 0, 0, 0, 0, 1, 1, 0, 0, 0, 0, 0,\n",
              "       1, 0, 0, 1, 1, 1, 1, 0, 0, 0, 0, 1, 0, 1, 0, 0, 1, 0, 0, 0, 0, 1,\n",
              "       1, 0])"
            ]
          },
          "metadata": {
            "tags": []
          },
          "execution_count": 37
        }
      ]
    },
    {
      "cell_type": "code",
      "metadata": {
        "id": "tG8OSTNd8tQS",
        "colab_type": "code",
        "colab": {}
      },
      "source": [
        "img=image.load_img('/content/gdrive/My Drive/Dataset/Dataset/Test/Parasite/C39P4thinF_original_IMG_20150622_105554_cell_10.png',target_size=(224,224))\n",
        "## We have to convert our image to array every time we have to make predictions\n",
        "x=image.img_to_array(img)"
      ],
      "execution_count": null,
      "outputs": []
    },
    {
      "cell_type": "code",
      "metadata": {
        "id": "NBQ5XckeAL_p",
        "colab_type": "code",
        "colab": {
          "base_uri": "https://localhost:8080/",
          "height": 34
        },
        "outputId": "07f388ec-b522-4166-d918-9f1da837d942"
      },
      "source": [
        "x.shape"
      ],
      "execution_count": null,
      "outputs": [
        {
          "output_type": "execute_result",
          "data": {
            "text/plain": [
              "(224, 224, 3)"
            ]
          },
          "metadata": {
            "tags": []
          },
          "execution_count": 46
        }
      ]
    },
    {
      "cell_type": "code",
      "metadata": {
        "id": "jfFBpJ0gAWSq",
        "colab_type": "code",
        "colab": {}
      },
      "source": [
        "## Re-scaling of the Image\n",
        "x=x/255"
      ],
      "execution_count": null,
      "outputs": []
    },
    {
      "cell_type": "code",
      "metadata": {
        "id": "Ju07F7v5Act3",
        "colab_type": "code",
        "colab": {
          "base_uri": "https://localhost:8080/",
          "height": 34
        },
        "outputId": "89f357b6-d3af-49ed-896e-4d1d1cd37ffc"
      },
      "source": [
        "x=np.expand_dims(x,axis=0)\n",
        "img_data=preprocess_input(x)\n",
        "img_data.shape"
      ],
      "execution_count": null,
      "outputs": [
        {
          "output_type": "execute_result",
          "data": {
            "text/plain": [
              "(1, 224, 224, 3)"
            ]
          },
          "metadata": {
            "tags": []
          },
          "execution_count": 48
        }
      ]
    },
    {
      "cell_type": "code",
      "metadata": {
        "id": "BMxnPokfAjAG",
        "colab_type": "code",
        "colab": {}
      },
      "source": [
        "a=model.predict(img_data)\n",
        "a=np.argmax(a,axis=1)"
      ],
      "execution_count": null,
      "outputs": []
    },
    {
      "cell_type": "code",
      "metadata": {
        "id": "4hnybgrvAtxZ",
        "colab_type": "code",
        "colab": {
          "base_uri": "https://localhost:8080/",
          "height": 34
        },
        "outputId": "0dc3a144-f2dd-4ae4-d7e3-e738d9dcb502"
      },
      "source": [
        "a"
      ],
      "execution_count": null,
      "outputs": [
        {
          "output_type": "execute_result",
          "data": {
            "text/plain": [
              "array([1])"
            ]
          },
          "metadata": {
            "tags": []
          },
          "execution_count": 50
        }
      ]
    },
    {
      "cell_type": "code",
      "metadata": {
        "id": "TxwVwkxMAu-s",
        "colab_type": "code",
        "colab": {}
      },
      "source": [
        ""
      ],
      "execution_count": null,
      "outputs": []
    }
  ]
}